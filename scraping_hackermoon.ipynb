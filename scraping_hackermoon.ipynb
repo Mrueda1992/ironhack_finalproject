{
 "cells": [
  {
   "cell_type": "code",
   "execution_count": 1,
   "metadata": {},
   "outputs": [],
   "source": [
    "from bs4 import BeautifulSoup as bs\n",
    "import requests\n",
    "from urllib.request import urlopen"
   ]
  },
  {
   "cell_type": "code",
   "execution_count": 2,
   "metadata": {},
   "outputs": [],
   "source": [
    "#get articles urls from front_page\n",
    "\n",
    "\n",
    "link_list = []\n",
    "url = requests.get('https://hackernoon.com/')   \n",
    "front_page = url.content\n",
    "soup = bs(front_page)\n",
    "front_articles = soup.find_all('div',{'class':'title'})\n",
    "for tags in front_articles:\n",
    "    links = tags.find_all('a',href=True)\n",
    "    for l in links:\n",
    "        link_list.append('https://hackernoon.com'+ l.get('href'))\n",
    "\n"
   ]
  },
  {
   "cell_type": "code",
   "execution_count": 21,
   "metadata": {},
   "outputs": [
    {
     "name": "stdout",
     "output_type": "stream",
     "text": [
      "['How Containers AffectÂ\\xa0DevOps', 'Make the Most of GitHub to Source Your Hires', 'Why Developers Hate Coding Skills Tests (And What Hiring Managers Can Do To Change That)', 'About the Wright Brothers Journey to  Accurate Wind Tunnel Data', 'From Dried Factory Thermal Paste\\nto a Humming 2015 Macbook Pro', 'Understanding A Recurrent Neural Network For Image Generation', 'Utah Becomes The Third U.S. Jurisdiction To Offer Blockchain-Based Mobile Voting', 'Community in 12 Quotes', 'A simple blockchain application for data verification.', 'No title', 'Utah Becomes The Third U.S. Jurisdiction To Offer Blockchain-Based Mobile Voting', 'AI Writer of the Year: Hacker Noon Awards| #Noonies Nominees', 'Difference between Artificial Intelligence, Machine learning, and deep learning', 'What is Autonomic Computing?', 'Why Your Tech Project Can Fail and How to Avoid theÂ\\xa0Failure', 'The Problemeter: A sheet that helps startups solve the right problem', 'How a Bunch of Little Pitching Tweaks Helped This Founder Raise $4M For His Purchasing Softwareâ\\x80¦', 'What is Autonomic Computing?', '12 cool things you can do with GitHub', \"What Did Node.js Provide that Rails Didn't?\", 'How Irrational Exuberance aligned Dot-Com and Crypto bubbles.', 'Understanding Cryptocurrency Development', 'A crypto-traderâ\\x80\\x99s diary â\\x80\\x94 week 1', 'AI Writer of the Year: Hacker Noon Awards| #Noonies Nominees', 'Contributing Writer of the Year - Hacker Noon Noonies Awards 2019', 'Most Over-Hyped Technology - Hacker Noon Awards 2019', 'Top 5 NFL Players Involved In Bitcoin', 'Voice Assistants are the Modern Day Groom of the Stool', 'What Does Peeling An Egg Have To Do With DevOps?', 'Make the Most of GitHub to Source Your Hires', 'â\\x99ª Mbube â\\x99ª : Could Have Blockchain Saved Africaâ\\x80\\x99s Most Popular Tune?', 'Why Developers Hate Coding Skills Tests (And What Hiring Managers Can Do To Change That)', 'How Advanced Technologies Reshape E-commerce Business', \"What Did Node.js Provide that Rails Didn't?\", 'The Best Bitcoin Visa Debit Card', 'Expanding the product portfolio with Dropbox', 'Python Code Optimization Tips For Developers', 'React Native Vs. Flutter: A Comparison of Pros and Cons']\n"
     ]
    }
   ],
   "source": [
    "#get title, body and tags of each article\n",
    "\n",
    "title_list = []\n",
    "text_list = []\n",
    "tag_dict = dict()\n",
    "\n",
    "for url in link_list:\n",
    "    page = requests.get(url)\n",
    "    soup = bs(page.text, 'html.parser')\n",
    "    paragraphs = soup.find_all('div',{'class':'paragraph'})\n",
    "    \n",
    "    for t in paragraphs:\n",
    "        text_list.append(t.text)\n",
    "        \n",
    "    try:   \n",
    "  \n",
    "        for title in soup.find('h1', {'class':'title'}):\n",
    "            title_list.append(title)\n",
    "    except:\n",
    "        \n",
    "        title = \"No title\"\n",
    "        title_list.append(title)\n",
    "\n",
    "    tags = []\n",
    "    for i in soup.find_all('a', {'class':'tag'}):\n",
    "        tags.append(i.text)\n",
    "    tag_dict[title]=tags\n",
    "        \n",
    "\n",
    "        \n",
    "#article = [' '.join(par) for par in paragraphs]\n",
    "\n",
    "\n",
    "articles_dict = {\"id\": link_list, \"title\": title_list, \"text\": text_list, \"tags\": tag_dict}\n",
    "\n",
    "\n",
    "\n",
    "    \n",
    "    "
   ]
  },
  {
   "cell_type": "code",
   "execution_count": 4,
   "metadata": {},
   "outputs": [],
   "source": [
    "#def scrape_links(url):\n",
    "\n",
    "\n",
    "    \n",
    "\n"
   ]
  },
  {
   "cell_type": "code",
   "execution_count": null,
   "metadata": {},
   "outputs": [],
   "source": []
  },
  {
   "cell_type": "code",
   "execution_count": null,
   "metadata": {},
   "outputs": [],
   "source": []
  }
 ],
 "metadata": {
  "kernelspec": {
   "display_name": "Python 3",
   "language": "python",
   "name": "python3"
  },
  "language_info": {
   "codemirror_mode": {
    "name": "ipython",
    "version": 3
   },
   "file_extension": ".py",
   "mimetype": "text/x-python",
   "name": "python",
   "nbconvert_exporter": "python",
   "pygments_lexer": "ipython3",
   "version": "3.7.3"
  }
 },
 "nbformat": 4,
 "nbformat_minor": 2
}
